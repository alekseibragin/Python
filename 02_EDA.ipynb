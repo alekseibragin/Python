{
  "nbformat": 4,
  "nbformat_minor": 0,
  "metadata": {
    "kernelspec": {
      "display_name": "Python 3",
      "language": "python",
      "name": "python3"
    },
    "language_info": {
      "codemirror_mode": {
        "name": "ipython",
        "version": 3
      },
      "file_extension": ".py",
      "mimetype": "text/x-python",
      "name": "python",
      "nbconvert_exporter": "python",
      "pygments_lexer": "ipython3",
      "version": "3.7.6"
    },
    "toc": {
      "base_numbering": 1,
      "nav_menu": {},
      "number_sections": true,
      "sideBar": true,
      "skip_h1_title": false,
      "title_cell": "Table of Contents",
      "title_sidebar": "Contents",
      "toc_cell": false,
      "toc_position": {},
      "toc_section_display": true,
      "toc_window_display": false
    },
    "colab": {
      "name": "02 EDA.ipynb",
      "provenance": []
    },
    "widgets": {
      "application/vnd.jupyter.widget-state+json": {
        "88bae1ead98f42cc8f9226612db29070": {
          "model_module": "@jupyter-widgets/controls",
          "model_name": "HBoxModel",
          "state": {
            "_view_name": "HBoxView",
            "_dom_classes": [],
            "_model_name": "HBoxModel",
            "_view_module": "@jupyter-widgets/controls",
            "_model_module_version": "1.5.0",
            "_view_count": null,
            "_view_module_version": "1.5.0",
            "box_style": "",
            "layout": "IPY_MODEL_33f30fc35e14477b9f427a172b991ac8",
            "_model_module": "@jupyter-widgets/controls",
            "children": [
              "IPY_MODEL_ae09059e5c6d4ff7b49ff74873efdced",
              "IPY_MODEL_22b5c5eaf86545798448d1eb085f8a7d",
              "IPY_MODEL_02910ff778c04eeba910725a7d6f338a"
            ]
          }
        },
        "33f30fc35e14477b9f427a172b991ac8": {
          "model_module": "@jupyter-widgets/base",
          "model_name": "LayoutModel",
          "state": {
            "_view_name": "LayoutView",
            "grid_template_rows": null,
            "right": null,
            "justify_content": null,
            "_view_module": "@jupyter-widgets/base",
            "overflow": null,
            "_model_module_version": "1.2.0",
            "_view_count": null,
            "flex_flow": "row wrap",
            "width": "100%",
            "min_width": null,
            "border": null,
            "align_items": null,
            "bottom": null,
            "_model_module": "@jupyter-widgets/base",
            "top": null,
            "grid_column": null,
            "overflow_y": null,
            "overflow_x": null,
            "grid_auto_flow": null,
            "grid_area": null,
            "grid_template_columns": null,
            "flex": null,
            "_model_name": "LayoutModel",
            "justify_items": null,
            "grid_row": null,
            "max_height": null,
            "align_content": null,
            "visibility": null,
            "align_self": null,
            "height": null,
            "min_height": null,
            "padding": null,
            "grid_auto_rows": null,
            "grid_gap": null,
            "max_width": null,
            "order": null,
            "_view_module_version": "1.2.0",
            "grid_template_areas": null,
            "object_position": null,
            "object_fit": null,
            "grid_auto_columns": null,
            "margin": null,
            "display": "inline-flex",
            "left": null
          }
        },
        "ae09059e5c6d4ff7b49ff74873efdced": {
          "model_module": "@jupyter-widgets/controls",
          "model_name": "HTMLModel",
          "state": {
            "_view_name": "HTMLView",
            "style": "IPY_MODEL_e3641b2d9b994a77ae30fa3316777e94",
            "_dom_classes": [],
            "description": "",
            "_model_name": "HTMLModel",
            "placeholder": "​",
            "_view_module": "@jupyter-widgets/controls",
            "_model_module_version": "1.5.0",
            "value": "Done! Use &#x27;show&#x27; commands to display/save.   ",
            "_view_count": null,
            "_view_module_version": "1.5.0",
            "description_tooltip": null,
            "_model_module": "@jupyter-widgets/controls",
            "layout": "IPY_MODEL_f1b67dbcd0424bb1bca045ef5b8b4d15"
          }
        },
        "22b5c5eaf86545798448d1eb085f8a7d": {
          "model_module": "@jupyter-widgets/controls",
          "model_name": "FloatProgressModel",
          "state": {
            "_view_name": "ProgressView",
            "style": "IPY_MODEL_127e45788aca4374aecc2472d9ed47a1",
            "_dom_classes": [],
            "description": "",
            "_model_name": "FloatProgressModel",
            "bar_style": "success",
            "max": 1,
            "_view_module": "@jupyter-widgets/controls",
            "_model_module_version": "1.5.0",
            "value": 1,
            "_view_count": null,
            "_view_module_version": "1.5.0",
            "orientation": "horizontal",
            "min": 0,
            "description_tooltip": null,
            "_model_module": "@jupyter-widgets/controls",
            "layout": "IPY_MODEL_396ee30996d447b2a8d07260a735f3c1"
          }
        },
        "02910ff778c04eeba910725a7d6f338a": {
          "model_module": "@jupyter-widgets/controls",
          "model_name": "HTMLModel",
          "state": {
            "_view_name": "HTMLView",
            "style": "IPY_MODEL_fa0387ec81bc48a0a6aaa42a842b7ba6",
            "_dom_classes": [],
            "description": "",
            "_model_name": "HTMLModel",
            "placeholder": "​",
            "_view_module": "@jupyter-widgets/controls",
            "_model_module_version": "1.5.0",
            "value": " [100%]   00:00 -&gt; (00:00 left)",
            "_view_count": null,
            "_view_module_version": "1.5.0",
            "description_tooltip": null,
            "_model_module": "@jupyter-widgets/controls",
            "layout": "IPY_MODEL_d54b8ee2c1094bfa9ea3fec1d03382b8"
          }
        },
        "e3641b2d9b994a77ae30fa3316777e94": {
          "model_module": "@jupyter-widgets/controls",
          "model_name": "DescriptionStyleModel",
          "state": {
            "_view_name": "StyleView",
            "_model_name": "DescriptionStyleModel",
            "description_width": "",
            "_view_module": "@jupyter-widgets/base",
            "_model_module_version": "1.5.0",
            "_view_count": null,
            "_view_module_version": "1.2.0",
            "_model_module": "@jupyter-widgets/controls"
          }
        },
        "f1b67dbcd0424bb1bca045ef5b8b4d15": {
          "model_module": "@jupyter-widgets/base",
          "model_name": "LayoutModel",
          "state": {
            "_view_name": "LayoutView",
            "grid_template_rows": null,
            "right": null,
            "justify_content": null,
            "_view_module": "@jupyter-widgets/base",
            "overflow": null,
            "_model_module_version": "1.2.0",
            "_view_count": null,
            "flex_flow": null,
            "width": null,
            "min_width": null,
            "border": null,
            "align_items": null,
            "bottom": null,
            "_model_module": "@jupyter-widgets/base",
            "top": null,
            "grid_column": null,
            "overflow_y": null,
            "overflow_x": null,
            "grid_auto_flow": null,
            "grid_area": null,
            "grid_template_columns": null,
            "flex": null,
            "_model_name": "LayoutModel",
            "justify_items": null,
            "grid_row": null,
            "max_height": null,
            "align_content": null,
            "visibility": null,
            "align_self": null,
            "height": null,
            "min_height": null,
            "padding": null,
            "grid_auto_rows": null,
            "grid_gap": null,
            "max_width": null,
            "order": null,
            "_view_module_version": "1.2.0",
            "grid_template_areas": null,
            "object_position": null,
            "object_fit": null,
            "grid_auto_columns": null,
            "margin": null,
            "display": null,
            "left": null
          }
        },
        "127e45788aca4374aecc2472d9ed47a1": {
          "model_module": "@jupyter-widgets/controls",
          "model_name": "ProgressStyleModel",
          "state": {
            "_view_name": "StyleView",
            "_model_name": "ProgressStyleModel",
            "description_width": "",
            "_view_module": "@jupyter-widgets/base",
            "_model_module_version": "1.5.0",
            "_view_count": null,
            "_view_module_version": "1.2.0",
            "bar_color": null,
            "_model_module": "@jupyter-widgets/controls"
          }
        },
        "396ee30996d447b2a8d07260a735f3c1": {
          "model_module": "@jupyter-widgets/base",
          "model_name": "LayoutModel",
          "state": {
            "_view_name": "LayoutView",
            "grid_template_rows": null,
            "right": null,
            "justify_content": null,
            "_view_module": "@jupyter-widgets/base",
            "overflow": null,
            "_model_module_version": "1.2.0",
            "_view_count": null,
            "flex_flow": null,
            "width": null,
            "min_width": null,
            "border": null,
            "align_items": null,
            "bottom": null,
            "_model_module": "@jupyter-widgets/base",
            "top": null,
            "grid_column": null,
            "overflow_y": null,
            "overflow_x": null,
            "grid_auto_flow": null,
            "grid_area": null,
            "grid_template_columns": null,
            "flex": "2",
            "_model_name": "LayoutModel",
            "justify_items": null,
            "grid_row": null,
            "max_height": null,
            "align_content": null,
            "visibility": null,
            "align_self": null,
            "height": null,
            "min_height": null,
            "padding": null,
            "grid_auto_rows": null,
            "grid_gap": null,
            "max_width": null,
            "order": null,
            "_view_module_version": "1.2.0",
            "grid_template_areas": null,
            "object_position": null,
            "object_fit": null,
            "grid_auto_columns": null,
            "margin": null,
            "display": null,
            "left": null
          }
        },
        "fa0387ec81bc48a0a6aaa42a842b7ba6": {
          "model_module": "@jupyter-widgets/controls",
          "model_name": "DescriptionStyleModel",
          "state": {
            "_view_name": "StyleView",
            "_model_name": "DescriptionStyleModel",
            "description_width": "",
            "_view_module": "@jupyter-widgets/base",
            "_model_module_version": "1.5.0",
            "_view_count": null,
            "_view_module_version": "1.2.0",
            "_model_module": "@jupyter-widgets/controls"
          }
        },
        "d54b8ee2c1094bfa9ea3fec1d03382b8": {
          "model_module": "@jupyter-widgets/base",
          "model_name": "LayoutModel",
          "state": {
            "_view_name": "LayoutView",
            "grid_template_rows": null,
            "right": null,
            "justify_content": null,
            "_view_module": "@jupyter-widgets/base",
            "overflow": null,
            "_model_module_version": "1.2.0",
            "_view_count": null,
            "flex_flow": null,
            "width": null,
            "min_width": null,
            "border": null,
            "align_items": null,
            "bottom": null,
            "_model_module": "@jupyter-widgets/base",
            "top": null,
            "grid_column": null,
            "overflow_y": null,
            "overflow_x": null,
            "grid_auto_flow": null,
            "grid_area": null,
            "grid_template_columns": null,
            "flex": null,
            "_model_name": "LayoutModel",
            "justify_items": null,
            "grid_row": null,
            "max_height": null,
            "align_content": null,
            "visibility": null,
            "align_self": null,
            "height": null,
            "min_height": null,
            "padding": null,
            "grid_auto_rows": null,
            "grid_gap": null,
            "max_width": null,
            "order": null,
            "_view_module_version": "1.2.0",
            "grid_template_areas": null,
            "object_position": null,
            "object_fit": null,
            "grid_auto_columns": null,
            "margin": null,
            "display": null,
            "left": null
          }
        },
        "24b49f7e7bc14da5b70ad5e84fedfc58": {
          "model_module": "@jupyter-widgets/controls",
          "model_name": "HBoxModel",
          "state": {
            "_view_name": "HBoxView",
            "_dom_classes": [],
            "_model_name": "HBoxModel",
            "_view_module": "@jupyter-widgets/controls",
            "_model_module_version": "1.5.0",
            "_view_count": null,
            "_view_module_version": "1.5.0",
            "box_style": "",
            "layout": "IPY_MODEL_83b634bdc0744c21b1b579ec0049d66c",
            "_model_module": "@jupyter-widgets/controls",
            "children": [
              "IPY_MODEL_2ceec41ebeb14a8cbdeaefe6f7332f53",
              "IPY_MODEL_39687eef356d4ce3b9d2243140490158",
              "IPY_MODEL_d2ff3526ec334933888f4bf41d7f4c1e"
            ]
          }
        },
        "83b634bdc0744c21b1b579ec0049d66c": {
          "model_module": "@jupyter-widgets/base",
          "model_name": "LayoutModel",
          "state": {
            "_view_name": "LayoutView",
            "grid_template_rows": null,
            "right": null,
            "justify_content": null,
            "_view_module": "@jupyter-widgets/base",
            "overflow": null,
            "_model_module_version": "1.2.0",
            "_view_count": null,
            "flex_flow": "row wrap",
            "width": "100%",
            "min_width": null,
            "border": null,
            "align_items": null,
            "bottom": null,
            "_model_module": "@jupyter-widgets/base",
            "top": null,
            "grid_column": null,
            "overflow_y": null,
            "overflow_x": null,
            "grid_auto_flow": null,
            "grid_area": null,
            "grid_template_columns": null,
            "flex": null,
            "_model_name": "LayoutModel",
            "justify_items": null,
            "grid_row": null,
            "max_height": null,
            "align_content": null,
            "visibility": null,
            "align_self": null,
            "height": null,
            "min_height": null,
            "padding": null,
            "grid_auto_rows": null,
            "grid_gap": null,
            "max_width": null,
            "order": null,
            "_view_module_version": "1.2.0",
            "grid_template_areas": null,
            "object_position": null,
            "object_fit": null,
            "grid_auto_columns": null,
            "margin": null,
            "display": "inline-flex",
            "left": null
          }
        },
        "2ceec41ebeb14a8cbdeaefe6f7332f53": {
          "model_module": "@jupyter-widgets/controls",
          "model_name": "HTMLModel",
          "state": {
            "_view_name": "HTMLView",
            "style": "IPY_MODEL_c1f8527c29db43788de52a8c2b7f4fba",
            "_dom_classes": [],
            "description": "",
            "_model_name": "HTMLModel",
            "placeholder": "​",
            "_view_module": "@jupyter-widgets/controls",
            "_model_module_version": "1.5.0",
            "value": "Done! Use &#x27;show&#x27; commands to display/save.   ",
            "_view_count": null,
            "_view_module_version": "1.5.0",
            "description_tooltip": null,
            "_model_module": "@jupyter-widgets/controls",
            "layout": "IPY_MODEL_d6f4c261fa1d46c2a9b194d359b6f3f7"
          }
        },
        "39687eef356d4ce3b9d2243140490158": {
          "model_module": "@jupyter-widgets/controls",
          "model_name": "FloatProgressModel",
          "state": {
            "_view_name": "ProgressView",
            "style": "IPY_MODEL_5e195bbdc5494e74ad7179a15ad73bcd",
            "_dom_classes": [],
            "description": "",
            "_model_name": "FloatProgressModel",
            "bar_style": "success",
            "max": 1,
            "_view_module": "@jupyter-widgets/controls",
            "_model_module_version": "1.5.0",
            "value": 1,
            "_view_count": null,
            "_view_module_version": "1.5.0",
            "orientation": "horizontal",
            "min": 0,
            "description_tooltip": null,
            "_model_module": "@jupyter-widgets/controls",
            "layout": "IPY_MODEL_2af1854bb5fa431791c8e0221a9c6e52"
          }
        },
        "d2ff3526ec334933888f4bf41d7f4c1e": {
          "model_module": "@jupyter-widgets/controls",
          "model_name": "HTMLModel",
          "state": {
            "_view_name": "HTMLView",
            "style": "IPY_MODEL_649f50ef5a1744bb9a7dc5c06a09e4ef",
            "_dom_classes": [],
            "description": "",
            "_model_name": "HTMLModel",
            "placeholder": "​",
            "_view_module": "@jupyter-widgets/controls",
            "_model_module_version": "1.5.0",
            "value": " [100%]   00:00 -&gt; (00:00 left)",
            "_view_count": null,
            "_view_module_version": "1.5.0",
            "description_tooltip": null,
            "_model_module": "@jupyter-widgets/controls",
            "layout": "IPY_MODEL_963947cbcede4585976ecc2a503fcb65"
          }
        },
        "c1f8527c29db43788de52a8c2b7f4fba": {
          "model_module": "@jupyter-widgets/controls",
          "model_name": "DescriptionStyleModel",
          "state": {
            "_view_name": "StyleView",
            "_model_name": "DescriptionStyleModel",
            "description_width": "",
            "_view_module": "@jupyter-widgets/base",
            "_model_module_version": "1.5.0",
            "_view_count": null,
            "_view_module_version": "1.2.0",
            "_model_module": "@jupyter-widgets/controls"
          }
        },
        "d6f4c261fa1d46c2a9b194d359b6f3f7": {
          "model_module": "@jupyter-widgets/base",
          "model_name": "LayoutModel",
          "state": {
            "_view_name": "LayoutView",
            "grid_template_rows": null,
            "right": null,
            "justify_content": null,
            "_view_module": "@jupyter-widgets/base",
            "overflow": null,
            "_model_module_version": "1.2.0",
            "_view_count": null,
            "flex_flow": null,
            "width": null,
            "min_width": null,
            "border": null,
            "align_items": null,
            "bottom": null,
            "_model_module": "@jupyter-widgets/base",
            "top": null,
            "grid_column": null,
            "overflow_y": null,
            "overflow_x": null,
            "grid_auto_flow": null,
            "grid_area": null,
            "grid_template_columns": null,
            "flex": null,
            "_model_name": "LayoutModel",
            "justify_items": null,
            "grid_row": null,
            "max_height": null,
            "align_content": null,
            "visibility": null,
            "align_self": null,
            "height": null,
            "min_height": null,
            "padding": null,
            "grid_auto_rows": null,
            "grid_gap": null,
            "max_width": null,
            "order": null,
            "_view_module_version": "1.2.0",
            "grid_template_areas": null,
            "object_position": null,
            "object_fit": null,
            "grid_auto_columns": null,
            "margin": null,
            "display": null,
            "left": null
          }
        },
        "5e195bbdc5494e74ad7179a15ad73bcd": {
          "model_module": "@jupyter-widgets/controls",
          "model_name": "ProgressStyleModel",
          "state": {
            "_view_name": "StyleView",
            "_model_name": "ProgressStyleModel",
            "description_width": "",
            "_view_module": "@jupyter-widgets/base",
            "_model_module_version": "1.5.0",
            "_view_count": null,
            "_view_module_version": "1.2.0",
            "bar_color": null,
            "_model_module": "@jupyter-widgets/controls"
          }
        },
        "2af1854bb5fa431791c8e0221a9c6e52": {
          "model_module": "@jupyter-widgets/base",
          "model_name": "LayoutModel",
          "state": {
            "_view_name": "LayoutView",
            "grid_template_rows": null,
            "right": null,
            "justify_content": null,
            "_view_module": "@jupyter-widgets/base",
            "overflow": null,
            "_model_module_version": "1.2.0",
            "_view_count": null,
            "flex_flow": null,
            "width": null,
            "min_width": null,
            "border": null,
            "align_items": null,
            "bottom": null,
            "_model_module": "@jupyter-widgets/base",
            "top": null,
            "grid_column": null,
            "overflow_y": null,
            "overflow_x": null,
            "grid_auto_flow": null,
            "grid_area": null,
            "grid_template_columns": null,
            "flex": "2",
            "_model_name": "LayoutModel",
            "justify_items": null,
            "grid_row": null,
            "max_height": null,
            "align_content": null,
            "visibility": null,
            "align_self": null,
            "height": null,
            "min_height": null,
            "padding": null,
            "grid_auto_rows": null,
            "grid_gap": null,
            "max_width": null,
            "order": null,
            "_view_module_version": "1.2.0",
            "grid_template_areas": null,
            "object_position": null,
            "object_fit": null,
            "grid_auto_columns": null,
            "margin": null,
            "display": null,
            "left": null
          }
        },
        "649f50ef5a1744bb9a7dc5c06a09e4ef": {
          "model_module": "@jupyter-widgets/controls",
          "model_name": "DescriptionStyleModel",
          "state": {
            "_view_name": "StyleView",
            "_model_name": "DescriptionStyleModel",
            "description_width": "",
            "_view_module": "@jupyter-widgets/base",
            "_model_module_version": "1.5.0",
            "_view_count": null,
            "_view_module_version": "1.2.0",
            "_model_module": "@jupyter-widgets/controls"
          }
        },
        "963947cbcede4585976ecc2a503fcb65": {
          "model_module": "@jupyter-widgets/base",
          "model_name": "LayoutModel",
          "state": {
            "_view_name": "LayoutView",
            "grid_template_rows": null,
            "right": null,
            "justify_content": null,
            "_view_module": "@jupyter-widgets/base",
            "overflow": null,
            "_model_module_version": "1.2.0",
            "_view_count": null,
            "flex_flow": null,
            "width": null,
            "min_width": null,
            "border": null,
            "align_items": null,
            "bottom": null,
            "_model_module": "@jupyter-widgets/base",
            "top": null,
            "grid_column": null,
            "overflow_y": null,
            "overflow_x": null,
            "grid_auto_flow": null,
            "grid_area": null,
            "grid_template_columns": null,
            "flex": null,
            "_model_name": "LayoutModel",
            "justify_items": null,
            "grid_row": null,
            "max_height": null,
            "align_content": null,
            "visibility": null,
            "align_self": null,
            "height": null,
            "min_height": null,
            "padding": null,
            "grid_auto_rows": null,
            "grid_gap": null,
            "max_width": null,
            "order": null,
            "_view_module_version": "1.2.0",
            "grid_template_areas": null,
            "object_position": null,
            "object_fit": null,
            "grid_auto_columns": null,
            "margin": null,
            "display": null,
            "left": null
          }
        },
        "2ccf4c5738c24e6f9edbb64f42546728": {
          "model_module": "@jupyter-widgets/controls",
          "model_name": "HBoxModel",
          "state": {
            "_view_name": "HBoxView",
            "_dom_classes": [],
            "_model_name": "HBoxModel",
            "_view_module": "@jupyter-widgets/controls",
            "_model_module_version": "1.5.0",
            "_view_count": null,
            "_view_module_version": "1.5.0",
            "box_style": "",
            "layout": "IPY_MODEL_4fefd446f22a4e29856e32179089ac14",
            "_model_module": "@jupyter-widgets/controls",
            "children": [
              "IPY_MODEL_65ece0191dde4a4e9be0db263c7973cf",
              "IPY_MODEL_246bc6283cdd4d6c9ccc82dabc99729a",
              "IPY_MODEL_10cf0a4930f14db0ab980558e747d53a"
            ]
          }
        },
        "4fefd446f22a4e29856e32179089ac14": {
          "model_module": "@jupyter-widgets/base",
          "model_name": "LayoutModel",
          "state": {
            "_view_name": "LayoutView",
            "grid_template_rows": null,
            "right": null,
            "justify_content": null,
            "_view_module": "@jupyter-widgets/base",
            "overflow": null,
            "_model_module_version": "1.2.0",
            "_view_count": null,
            "flex_flow": "row wrap",
            "width": "100%",
            "min_width": null,
            "border": null,
            "align_items": null,
            "bottom": null,
            "_model_module": "@jupyter-widgets/base",
            "top": null,
            "grid_column": null,
            "overflow_y": null,
            "overflow_x": null,
            "grid_auto_flow": null,
            "grid_area": null,
            "grid_template_columns": null,
            "flex": null,
            "_model_name": "LayoutModel",
            "justify_items": null,
            "grid_row": null,
            "max_height": null,
            "align_content": null,
            "visibility": null,
            "align_self": null,
            "height": null,
            "min_height": null,
            "padding": null,
            "grid_auto_rows": null,
            "grid_gap": null,
            "max_width": null,
            "order": null,
            "_view_module_version": "1.2.0",
            "grid_template_areas": null,
            "object_position": null,
            "object_fit": null,
            "grid_auto_columns": null,
            "margin": null,
            "display": "inline-flex",
            "left": null
          }
        },
        "65ece0191dde4a4e9be0db263c7973cf": {
          "model_module": "@jupyter-widgets/controls",
          "model_name": "HTMLModel",
          "state": {
            "_view_name": "HTMLView",
            "style": "IPY_MODEL_ddb73ea62def4c60b1ee3a586cf3afbd",
            "_dom_classes": [],
            "description": "",
            "_model_name": "HTMLModel",
            "placeholder": "​",
            "_view_module": "@jupyter-widgets/controls",
            "_model_module_version": "1.5.0",
            "value": "Done! Use &#x27;show&#x27; commands to display/save.   ",
            "_view_count": null,
            "_view_module_version": "1.5.0",
            "description_tooltip": null,
            "_model_module": "@jupyter-widgets/controls",
            "layout": "IPY_MODEL_7aa0768743b2448db12ff6c45806d316"
          }
        },
        "246bc6283cdd4d6c9ccc82dabc99729a": {
          "model_module": "@jupyter-widgets/controls",
          "model_name": "FloatProgressModel",
          "state": {
            "_view_name": "ProgressView",
            "style": "IPY_MODEL_c0b1569f47c4413ca28240ec97745f57",
            "_dom_classes": [],
            "description": "",
            "_model_name": "FloatProgressModel",
            "bar_style": "success",
            "max": 1,
            "_view_module": "@jupyter-widgets/controls",
            "_model_module_version": "1.5.0",
            "value": 1,
            "_view_count": null,
            "_view_module_version": "1.5.0",
            "orientation": "horizontal",
            "min": 0,
            "description_tooltip": null,
            "_model_module": "@jupyter-widgets/controls",
            "layout": "IPY_MODEL_96ff917015884facae76e9965bc486d8"
          }
        },
        "10cf0a4930f14db0ab980558e747d53a": {
          "model_module": "@jupyter-widgets/controls",
          "model_name": "HTMLModel",
          "state": {
            "_view_name": "HTMLView",
            "style": "IPY_MODEL_d0911695f9bd4b5595b576a07bbc4c05",
            "_dom_classes": [],
            "description": "",
            "_model_name": "HTMLModel",
            "placeholder": "​",
            "_view_module": "@jupyter-widgets/controls",
            "_model_module_version": "1.5.0",
            "value": " [100%]   00:00 -&gt; (00:00 left)",
            "_view_count": null,
            "_view_module_version": "1.5.0",
            "description_tooltip": null,
            "_model_module": "@jupyter-widgets/controls",
            "layout": "IPY_MODEL_55623f19d9344d12b73a19e094ce180d"
          }
        },
        "ddb73ea62def4c60b1ee3a586cf3afbd": {
          "model_module": "@jupyter-widgets/controls",
          "model_name": "DescriptionStyleModel",
          "state": {
            "_view_name": "StyleView",
            "_model_name": "DescriptionStyleModel",
            "description_width": "",
            "_view_module": "@jupyter-widgets/base",
            "_model_module_version": "1.5.0",
            "_view_count": null,
            "_view_module_version": "1.2.0",
            "_model_module": "@jupyter-widgets/controls"
          }
        },
        "7aa0768743b2448db12ff6c45806d316": {
          "model_module": "@jupyter-widgets/base",
          "model_name": "LayoutModel",
          "state": {
            "_view_name": "LayoutView",
            "grid_template_rows": null,
            "right": null,
            "justify_content": null,
            "_view_module": "@jupyter-widgets/base",
            "overflow": null,
            "_model_module_version": "1.2.0",
            "_view_count": null,
            "flex_flow": null,
            "width": null,
            "min_width": null,
            "border": null,
            "align_items": null,
            "bottom": null,
            "_model_module": "@jupyter-widgets/base",
            "top": null,
            "grid_column": null,
            "overflow_y": null,
            "overflow_x": null,
            "grid_auto_flow": null,
            "grid_area": null,
            "grid_template_columns": null,
            "flex": null,
            "_model_name": "LayoutModel",
            "justify_items": null,
            "grid_row": null,
            "max_height": null,
            "align_content": null,
            "visibility": null,
            "align_self": null,
            "height": null,
            "min_height": null,
            "padding": null,
            "grid_auto_rows": null,
            "grid_gap": null,
            "max_width": null,
            "order": null,
            "_view_module_version": "1.2.0",
            "grid_template_areas": null,
            "object_position": null,
            "object_fit": null,
            "grid_auto_columns": null,
            "margin": null,
            "display": null,
            "left": null
          }
        },
        "c0b1569f47c4413ca28240ec97745f57": {
          "model_module": "@jupyter-widgets/controls",
          "model_name": "ProgressStyleModel",
          "state": {
            "_view_name": "StyleView",
            "_model_name": "ProgressStyleModel",
            "description_width": "",
            "_view_module": "@jupyter-widgets/base",
            "_model_module_version": "1.5.0",
            "_view_count": null,
            "_view_module_version": "1.2.0",
            "bar_color": null,
            "_model_module": "@jupyter-widgets/controls"
          }
        },
        "96ff917015884facae76e9965bc486d8": {
          "model_module": "@jupyter-widgets/base",
          "model_name": "LayoutModel",
          "state": {
            "_view_name": "LayoutView",
            "grid_template_rows": null,
            "right": null,
            "justify_content": null,
            "_view_module": "@jupyter-widgets/base",
            "overflow": null,
            "_model_module_version": "1.2.0",
            "_view_count": null,
            "flex_flow": null,
            "width": null,
            "min_width": null,
            "border": null,
            "align_items": null,
            "bottom": null,
            "_model_module": "@jupyter-widgets/base",
            "top": null,
            "grid_column": null,
            "overflow_y": null,
            "overflow_x": null,
            "grid_auto_flow": null,
            "grid_area": null,
            "grid_template_columns": null,
            "flex": "2",
            "_model_name": "LayoutModel",
            "justify_items": null,
            "grid_row": null,
            "max_height": null,
            "align_content": null,
            "visibility": null,
            "align_self": null,
            "height": null,
            "min_height": null,
            "padding": null,
            "grid_auto_rows": null,
            "grid_gap": null,
            "max_width": null,
            "order": null,
            "_view_module_version": "1.2.0",
            "grid_template_areas": null,
            "object_position": null,
            "object_fit": null,
            "grid_auto_columns": null,
            "margin": null,
            "display": null,
            "left": null
          }
        },
        "d0911695f9bd4b5595b576a07bbc4c05": {
          "model_module": "@jupyter-widgets/controls",
          "model_name": "DescriptionStyleModel",
          "state": {
            "_view_name": "StyleView",
            "_model_name": "DescriptionStyleModel",
            "description_width": "",
            "_view_module": "@jupyter-widgets/base",
            "_model_module_version": "1.5.0",
            "_view_count": null,
            "_view_module_version": "1.2.0",
            "_model_module": "@jupyter-widgets/controls"
          }
        },
        "55623f19d9344d12b73a19e094ce180d": {
          "model_module": "@jupyter-widgets/base",
          "model_name": "LayoutModel",
          "state": {
            "_view_name": "LayoutView",
            "grid_template_rows": null,
            "right": null,
            "justify_content": null,
            "_view_module": "@jupyter-widgets/base",
            "overflow": null,
            "_model_module_version": "1.2.0",
            "_view_count": null,
            "flex_flow": null,
            "width": null,
            "min_width": null,
            "border": null,
            "align_items": null,
            "bottom": null,
            "_model_module": "@jupyter-widgets/base",
            "top": null,
            "grid_column": null,
            "overflow_y": null,
            "overflow_x": null,
            "grid_auto_flow": null,
            "grid_area": null,
            "grid_template_columns": null,
            "flex": null,
            "_model_name": "LayoutModel",
            "justify_items": null,
            "grid_row": null,
            "max_height": null,
            "align_content": null,
            "visibility": null,
            "align_self": null,
            "height": null,
            "min_height": null,
            "padding": null,
            "grid_auto_rows": null,
            "grid_gap": null,
            "max_width": null,
            "order": null,
            "_view_module_version": "1.2.0",
            "grid_template_areas": null,
            "object_position": null,
            "object_fit": null,
            "grid_auto_columns": null,
            "margin": null,
            "display": null,
            "left": null
          }
        }
      }
    }
  },
  "cells": [
    {
      "cell_type": "markdown",
      "metadata": {
        "id": "4ODp5H6Zy5UK"
      },
      "source": [
        "\n",
        "\n",
        "# DH. Дневники.\n",
        "\n",
        "\n",
        "Проанализировать файлы с дневниками."
      ]
    },
    {
      "cell_type": "code",
      "metadata": {
        "colab": {
          "base_uri": "https://localhost:8080/"
        },
        "id": "qEtrAF06y5UN",
        "outputId": "049d0330-8608-4ab6-8ae3-498702d59b01"
      },
      "source": [
        "import pandas as pd\n",
        "from pathlib import Path\n",
        "!pip install sweetviz\n",
        "import sweetviz as sv\n",
        "import csv"
      ],
      "execution_count": 2,
      "outputs": [
        {
          "output_type": "stream",
          "text": [
            "Requirement already satisfied: sweetviz in /usr/local/lib/python3.6/dist-packages (2.0.4)\n",
            "Requirement already satisfied: jinja2>=2.11.1 in /usr/local/lib/python3.6/dist-packages (from sweetviz) (2.11.2)\n",
            "Requirement already satisfied: matplotlib>=3.1.3 in /usr/local/lib/python3.6/dist-packages (from sweetviz) (3.2.2)\n",
            "Requirement already satisfied: numpy>=1.16.0 in /usr/local/lib/python3.6/dist-packages (from sweetviz) (1.19.5)\n",
            "Requirement already satisfied: scipy>=1.3.2 in /usr/local/lib/python3.6/dist-packages (from sweetviz) (1.4.1)\n",
            "Requirement already satisfied: tqdm>=4.43.0 in /usr/local/lib/python3.6/dist-packages (from sweetviz) (4.56.0)\n",
            "Requirement already satisfied: importlib-resources>=1.2.0 in /usr/local/lib/python3.6/dist-packages (from sweetviz) (4.1.1)\n",
            "Requirement already satisfied: pandas!=1.0.0,!=1.0.1,!=1.0.2,>=0.25.3 in /usr/local/lib/python3.6/dist-packages (from sweetviz) (1.1.5)\n",
            "Requirement already satisfied: MarkupSafe>=0.23 in /usr/local/lib/python3.6/dist-packages (from jinja2>=2.11.1->sweetviz) (1.1.1)\n",
            "Requirement already satisfied: pyparsing!=2.0.4,!=2.1.2,!=2.1.6,>=2.0.1 in /usr/local/lib/python3.6/dist-packages (from matplotlib>=3.1.3->sweetviz) (2.4.7)\n",
            "Requirement already satisfied: cycler>=0.10 in /usr/local/lib/python3.6/dist-packages (from matplotlib>=3.1.3->sweetviz) (0.10.0)\n",
            "Requirement already satisfied: kiwisolver>=1.0.1 in /usr/local/lib/python3.6/dist-packages (from matplotlib>=3.1.3->sweetviz) (1.3.1)\n",
            "Requirement already satisfied: python-dateutil>=2.1 in /usr/local/lib/python3.6/dist-packages (from matplotlib>=3.1.3->sweetviz) (2.8.1)\n",
            "Requirement already satisfied: zipp>=0.4; python_version < \"3.8\" in /usr/local/lib/python3.6/dist-packages (from importlib-resources>=1.2.0->sweetviz) (3.4.0)\n",
            "Requirement already satisfied: pytz>=2017.2 in /usr/local/lib/python3.6/dist-packages (from pandas!=1.0.0,!=1.0.1,!=1.0.2,>=0.25.3->sweetviz) (2018.9)\n",
            "Requirement already satisfied: six in /usr/local/lib/python3.6/dist-packages (from cycler>=0.10->matplotlib>=3.1.3->sweetviz) (1.15.0)\n"
          ],
          "name": "stdout"
        }
      ]
    },
    {
      "cell_type": "code",
      "metadata": {
        "id": "HY43Xkcay5UP"
      },
      "source": [
        "data4 = \"\"\n",
        "with open('/content/whole_table.csv', newline='', encoding=\"utf-8\") as file:\n",
        "  data4 = file.read().replace(\",#\", \"\\t\")\n",
        "with open('/content/whole_table8.csv', \"w\", encoding=\"utf-8\") as file:\n",
        "  file.write(data4)"
      ],
      "execution_count": 3,
      "outputs": []
    },
    {
      "cell_type": "code",
      "metadata": {
        "id": "o2k0gsg8N6gn"
      },
      "source": [
        "whole = pd.read_csv(Path('/content/whole_table8.csv'), sep='\\t')"
      ],
      "execution_count": 4,
      "outputs": []
    },
    {
      "cell_type": "code",
      "metadata": {
        "id": "xjdjiS7p7ZXc",
        "colab": {
          "base_uri": "https://localhost:8080/"
        },
        "outputId": "a1206493-2617-437b-b6af-79ad75d9e356"
      },
      "source": [
        "#whole = pd.DataFrame()\n",
        "whole.info()"
      ],
      "execution_count": 5,
      "outputs": [
        {
          "output_type": "stream",
          "text": [
            "<class 'pandas.core.frame.DataFrame'>\n",
            "RangeIndex: 384526 entries, 0 to 384525\n",
            "Data columns (total 5 columns):\n",
            " #   Column      Non-Null Count   Dtype \n",
            "---  ------      --------------   ----- \n",
            " 0   Unnamed: 0  384526 non-null  int64 \n",
            " 1   notes       384525 non-null  object\n",
            " 2   dates       384526 non-null  object\n",
            " 3   id          384526 non-null  int64 \n",
            " 4   author      384526 non-null  object\n",
            "dtypes: int64(2), object(3)\n",
            "memory usage: 14.7+ MB\n"
          ],
          "name": "stdout"
        }
      ]
    },
    {
      "cell_type": "code",
      "metadata": {
        "id": "xNg6dBMQTPHF"
      },
      "source": [
        "data4 = \"\"\n",
        "with open('/content/whole_table_with_lemm.csv', newline='', encoding=\"utf-8\") as file:\n",
        "  data4 = file.read().replace(\",#\", \"\\t\")\n",
        "with open('/content/whole_table_with_lemm8.csv', \"w\", encoding=\"utf-8\") as file:\n",
        "  file.write(data4)"
      ],
      "execution_count": 6,
      "outputs": []
    },
    {
      "cell_type": "code",
      "metadata": {
        "id": "GUhgAYstTia9"
      },
      "source": [
        "lemm = pd.read_csv(Path('/content/whole_table_with_lemm8.csv'), sep='\\t')"
      ],
      "execution_count": 7,
      "outputs": []
    },
    {
      "cell_type": "code",
      "metadata": {
        "id": "HIodz6uH3QoJ",
        "colab": {
          "base_uri": "https://localhost:8080/"
        },
        "outputId": "07d74eb5-e431-47b5-a804-33b3a209e03e"
      },
      "source": [
        "lemm.info()"
      ],
      "execution_count": 8,
      "outputs": [
        {
          "output_type": "stream",
          "text": [
            "<class 'pandas.core.frame.DataFrame'>\n",
            "RangeIndex: 384526 entries, 0 to 384525\n",
            "Data columns (total 6 columns):\n",
            " #   Column      Non-Null Count   Dtype \n",
            "---  ------      --------------   ----- \n",
            " 0   Unnamed: 0  384526 non-null  int64 \n",
            " 1   notes       384525 non-null  object\n",
            " 2   notes\n",
            "      384525 non-null  object\n",
            " 3   dates       384526 non-null  object\n",
            " 4   id          384526 non-null  int64 \n",
            " 5   author      384526 non-null  object\n",
            "dtypes: int64(2), object(4)\n",
            "memory usage: 17.6+ MB\n"
          ],
          "name": "stdout"
        }
      ]
    },
    {
      "cell_type": "code",
      "metadata": {
        "colab": {
          "base_uri": "https://localhost:8080/",
          "height": 195
        },
        "id": "p3HaXyJ1y5UQ",
        "outputId": "2ce63d75-308e-40fb-875f-2adeccb45466"
      },
      "source": [
        "whole.head()"
      ],
      "execution_count": 9,
      "outputs": [
        {
          "output_type": "execute_result",
          "data": {
            "text/html": [
              "<div>\n",
              "<style scoped>\n",
              "    .dataframe tbody tr th:only-of-type {\n",
              "        vertical-align: middle;\n",
              "    }\n",
              "\n",
              "    .dataframe tbody tr th {\n",
              "        vertical-align: top;\n",
              "    }\n",
              "\n",
              "    .dataframe thead th {\n",
              "        text-align: right;\n",
              "    }\n",
              "</style>\n",
              "<table border=\"1\" class=\"dataframe\">\n",
              "  <thead>\n",
              "    <tr style=\"text-align: right;\">\n",
              "      <th></th>\n",
              "      <th>Unnamed: 0</th>\n",
              "      <th>notes</th>\n",
              "      <th>dates</th>\n",
              "      <th>id</th>\n",
              "      <th>author</th>\n",
              "    </tr>\n",
              "  </thead>\n",
              "  <tbody>\n",
              "    <tr>\n",
              "      <th>0</th>\n",
              "      <td>0</td>\n",
              "      <td>Воскресенье.    \\nВчера приехал Слава навестит...</td>\n",
              "      <td>0/0/0</td>\n",
              "      <td>2950</td>\n",
              "      <td>Василий Сергеевич Савельев</td>\n",
              "    </tr>\n",
              "    <tr>\n",
              "      <th>1</th>\n",
              "      <td>1</td>\n",
              "      <td>Ночью мы достигли банки Антон-Дорн, в Датском ...</td>\n",
              "      <td>0/0/0</td>\n",
              "      <td>2268</td>\n",
              "      <td>Олег Владимирович Амитров</td>\n",
              "    </tr>\n",
              "    <tr>\n",
              "      <th>2</th>\n",
              "      <td>2</td>\n",
              "      <td>Суббота. Москва. Еду в Селище.</td>\n",
              "      <td>0/12/21</td>\n",
              "      <td>795</td>\n",
              "      <td>Сергей Иванович Танеев</td>\n",
              "    </tr>\n",
              "    <tr>\n",
              "      <th>3</th>\n",
              "      <td>3</td>\n",
              "      <td>18 Августа Его Королевское Величество отправил...</td>\n",
              "      <td>1609/8/18</td>\n",
              "      <td>1081</td>\n",
              "      <td>Самуил  Бельский</td>\n",
              "    </tr>\n",
              "    <tr>\n",
              "      <th>4</th>\n",
              "      <td>4</td>\n",
              "      <td>На следующий день, 19 Августа, прибыл в Остров...</td>\n",
              "      <td>1609/8/19</td>\n",
              "      <td>1081</td>\n",
              "      <td>Самуил  Бельский</td>\n",
              "    </tr>\n",
              "  </tbody>\n",
              "</table>\n",
              "</div>"
            ],
            "text/plain": [
              "   Unnamed: 0  ...                      author\n",
              "0           0  ...  Василий Сергеевич Савельев\n",
              "1           1  ...   Олег Владимирович Амитров\n",
              "2           2  ...      Сергей Иванович Танеев\n",
              "3           3  ...            Самуил  Бельский\n",
              "4           4  ...            Самуил  Бельский\n",
              "\n",
              "[5 rows x 5 columns]"
            ]
          },
          "metadata": {
            "tags": []
          },
          "execution_count": 9
        }
      ]
    },
    {
      "cell_type": "code",
      "metadata": {
        "colab": {
          "base_uri": "https://localhost:8080/",
          "height": 330
        },
        "id": "4-hyx6Eb1py0",
        "outputId": "e80b0120-325d-4a95-e16a-3b0cb6e07ff9"
      },
      "source": [
        "lemm.head()"
      ],
      "execution_count": 10,
      "outputs": [
        {
          "output_type": "execute_result",
          "data": {
            "text/html": [
              "<div>\n",
              "<style scoped>\n",
              "    .dataframe tbody tr th:only-of-type {\n",
              "        vertical-align: middle;\n",
              "    }\n",
              "\n",
              "    .dataframe tbody tr th {\n",
              "        vertical-align: top;\n",
              "    }\n",
              "\n",
              "    .dataframe thead th {\n",
              "        text-align: right;\n",
              "    }\n",
              "</style>\n",
              "<table border=\"1\" class=\"dataframe\">\n",
              "  <thead>\n",
              "    <tr style=\"text-align: right;\">\n",
              "      <th></th>\n",
              "      <th>Unnamed: 0</th>\n",
              "      <th>notes</th>\n",
              "      <th>notes\\n</th>\n",
              "      <th>dates</th>\n",
              "      <th>id</th>\n",
              "      <th>author</th>\n",
              "    </tr>\n",
              "  </thead>\n",
              "  <tbody>\n",
              "    <tr>\n",
              "      <th>0</th>\n",
              "      <td>0</td>\n",
              "      <td>Воскресенье.    \\nВчера приехал Слава навестит...</td>\n",
              "      <td>воскресение.    \\nвчера приезжать слава навеща...</td>\n",
              "      <td>0/0/0</td>\n",
              "      <td>2950</td>\n",
              "      <td>Василий Сергеевич Савельев</td>\n",
              "    </tr>\n",
              "    <tr>\n",
              "      <th>1</th>\n",
              "      <td>1</td>\n",
              "      <td>Ночью мы достигли банки Антон-Дорн, в Датском ...</td>\n",
              "      <td>ночь мы достигать банка антон-дорн, в датский ...</td>\n",
              "      <td>0/0/0</td>\n",
              "      <td>2268</td>\n",
              "      <td>Олег Владимирович Амитров</td>\n",
              "    </tr>\n",
              "    <tr>\n",
              "      <th>2</th>\n",
              "      <td>2</td>\n",
              "      <td>Суббота. Москва. Еду в Селище.</td>\n",
              "      <td>суббота. москва. ехать в селище.\\n</td>\n",
              "      <td>0/12/21</td>\n",
              "      <td>795</td>\n",
              "      <td>Сергей Иванович Танеев</td>\n",
              "    </tr>\n",
              "    <tr>\n",
              "      <th>3</th>\n",
              "      <td>3</td>\n",
              "      <td>18 Августа Его Королевское Величество отправил...</td>\n",
              "      <td>18 август его королевский величество отправлят...</td>\n",
              "      <td>1609/8/18</td>\n",
              "      <td>1081</td>\n",
              "      <td>Самуил  Бельский</td>\n",
              "    </tr>\n",
              "    <tr>\n",
              "      <th>4</th>\n",
              "      <td>4</td>\n",
              "      <td>На следующий день, 19 Августа, прибыл в Остров...</td>\n",
              "      <td>на следующий день, 19 август, прибывать в остр...</td>\n",
              "      <td>1609/8/19</td>\n",
              "      <td>1081</td>\n",
              "      <td>Самуил  Бельский</td>\n",
              "    </tr>\n",
              "  </tbody>\n",
              "</table>\n",
              "</div>"
            ],
            "text/plain": [
              "   Unnamed: 0  ...                      author\n",
              "0           0  ...  Василий Сергеевич Савельев\n",
              "1           1  ...   Олег Владимирович Амитров\n",
              "2           2  ...      Сергей Иванович Танеев\n",
              "3           3  ...            Самуил  Бельский\n",
              "4           4  ...            Самуил  Бельский\n",
              "\n",
              "[5 rows x 6 columns]"
            ]
          },
          "metadata": {
            "tags": []
          },
          "execution_count": 10
        }
      ]
    },
    {
      "cell_type": "code",
      "metadata": {
        "id": "tlKbyLtUy5UQ"
      },
      "source": [
        "pd.set_option('display.max_columns', None)\n",
        "pd.set_option('display.max_rows', None)"
      ],
      "execution_count": 11,
      "outputs": []
    },
    {
      "cell_type": "code",
      "metadata": {
        "id": "q6IFP31CXemx"
      },
      "source": [
        "#if whole['dates']!='0/0/0':\n",
        "#  whole['dates'] = pd.to_datetime(whole['dates'], format=\"%Y-%m-%d\").dt.year\n",
        "#if lemm['dates']!='0/0/0':  \n",
        "#  lemm['dates'] = pd.to_datetime(lemm['dates'], format=\"%Y-%m-%d\").dt.month"
      ],
      "execution_count": 12,
      "outputs": []
    },
    {
      "cell_type": "code",
      "metadata": {
        "id": "mbqtwL9Yy5UR"
      },
      "source": [
        "f_whole = sv.FeatureConfig(skip=[\"id\"] )"
      ],
      "execution_count": 13,
      "outputs": []
    },
    {
      "cell_type": "code",
      "metadata": {
        "colab": {
          "base_uri": "https://localhost:8080/",
          "height": 49,
          "referenced_widgets": [
            "88bae1ead98f42cc8f9226612db29070",
            "33f30fc35e14477b9f427a172b991ac8",
            "ae09059e5c6d4ff7b49ff74873efdced",
            "22b5c5eaf86545798448d1eb085f8a7d",
            "02910ff778c04eeba910725a7d6f338a",
            "e3641b2d9b994a77ae30fa3316777e94",
            "f1b67dbcd0424bb1bca045ef5b8b4d15",
            "127e45788aca4374aecc2472d9ed47a1",
            "396ee30996d447b2a8d07260a735f3c1",
            "fa0387ec81bc48a0a6aaa42a842b7ba6",
            "d54b8ee2c1094bfa9ea3fec1d03382b8"
          ]
        },
        "id": "uDT55VNxy5UR",
        "outputId": "acd5ec04-48a6-466c-bbc9-90b0fa9fb9c6"
      },
      "source": [
        "whole_report = sv.analyze(whole)"
      ],
      "execution_count": 14,
      "outputs": [
        {
          "output_type": "display_data",
          "data": {
            "application/vnd.jupyter.widget-view+json": {
              "model_id": "88bae1ead98f42cc8f9226612db29070",
              "version_minor": 0,
              "version_major": 2
            },
            "text/plain": [
              "                                             |          | [  0%]   00:00 -> (? left)"
            ]
          },
          "metadata": {
            "tags": []
          }
        }
      ]
    },
    {
      "cell_type": "code",
      "metadata": {
        "id": "r6Jl0pLuy5US",
        "colab": {
          "base_uri": "https://localhost:8080/"
        },
        "outputId": "1a028967-0e44-4b98-8f77-5f6d2b07bad5"
      },
      "source": [
        "whole_report.show_html(Path('/content/whole.html')) "
      ],
      "execution_count": 15,
      "outputs": [
        {
          "output_type": "stream",
          "text": [
            "Report /content/whole.html was generated! NOTEBOOK/COLAB USERS: the web browser MAY not pop up, regardless, the report IS saved in your notebook/colab files.\n"
          ],
          "name": "stdout"
        }
      ]
    },
    {
      "cell_type": "code",
      "metadata": {
        "colab": {
          "base_uri": "https://localhost:8080/",
          "height": 49,
          "referenced_widgets": [
            "24b49f7e7bc14da5b70ad5e84fedfc58",
            "83b634bdc0744c21b1b579ec0049d66c",
            "2ceec41ebeb14a8cbdeaefe6f7332f53",
            "39687eef356d4ce3b9d2243140490158",
            "d2ff3526ec334933888f4bf41d7f4c1e",
            "c1f8527c29db43788de52a8c2b7f4fba",
            "d6f4c261fa1d46c2a9b194d359b6f3f7",
            "5e195bbdc5494e74ad7179a15ad73bcd",
            "2af1854bb5fa431791c8e0221a9c6e52",
            "649f50ef5a1744bb9a7dc5c06a09e4ef",
            "963947cbcede4585976ecc2a503fcb65"
          ]
        },
        "id": "kgCjmvwycAL8",
        "outputId": "d3dedecb-3675-4472-f898-242c492541b6"
      },
      "source": [
        "lemm_report = sv.analyze(lemm)"
      ],
      "execution_count": 16,
      "outputs": [
        {
          "output_type": "display_data",
          "data": {
            "application/vnd.jupyter.widget-view+json": {
              "model_id": "24b49f7e7bc14da5b70ad5e84fedfc58",
              "version_minor": 0,
              "version_major": 2
            },
            "text/plain": [
              "                                             |          | [  0%]   00:00 -> (? left)"
            ]
          },
          "metadata": {
            "tags": []
          }
        }
      ]
    },
    {
      "cell_type": "code",
      "metadata": {
        "colab": {
          "base_uri": "https://localhost:8080/"
        },
        "id": "bCSVqrcIcOjw",
        "outputId": "6d2c84f2-1a5c-4eb1-b083-0998d9c9cbe6"
      },
      "source": [
        "lemm_report.show_html(Path('/content/lemm.html')) "
      ],
      "execution_count": 17,
      "outputs": [
        {
          "output_type": "stream",
          "text": [
            "Report /content/lemm.html was generated! NOTEBOOK/COLAB USERS: the web browser MAY not pop up, regardless, the report IS saved in your notebook/colab files.\n"
          ],
          "name": "stdout"
        }
      ]
    },
    {
      "cell_type": "code",
      "metadata": {
        "id": "NEYNqqFGdLpM"
      },
      "source": [
        "whole['year'] = whole['dates']"
      ],
      "execution_count": 18,
      "outputs": []
    },
    {
      "cell_type": "code",
      "metadata": {
        "colab": {
          "base_uri": "https://localhost:8080/",
          "height": 195
        },
        "id": "1kAPt2C_exC3",
        "outputId": "50466bce-39c7-46d7-d497-d24c1f79df95"
      },
      "source": [
        "whole.head()"
      ],
      "execution_count": 19,
      "outputs": [
        {
          "output_type": "execute_result",
          "data": {
            "text/html": [
              "<div>\n",
              "<style scoped>\n",
              "    .dataframe tbody tr th:only-of-type {\n",
              "        vertical-align: middle;\n",
              "    }\n",
              "\n",
              "    .dataframe tbody tr th {\n",
              "        vertical-align: top;\n",
              "    }\n",
              "\n",
              "    .dataframe thead th {\n",
              "        text-align: right;\n",
              "    }\n",
              "</style>\n",
              "<table border=\"1\" class=\"dataframe\">\n",
              "  <thead>\n",
              "    <tr style=\"text-align: right;\">\n",
              "      <th></th>\n",
              "      <th>Unnamed: 0</th>\n",
              "      <th>notes</th>\n",
              "      <th>dates</th>\n",
              "      <th>id</th>\n",
              "      <th>author</th>\n",
              "      <th>year</th>\n",
              "    </tr>\n",
              "  </thead>\n",
              "  <tbody>\n",
              "    <tr>\n",
              "      <th>0</th>\n",
              "      <td>0</td>\n",
              "      <td>Воскресенье.    \\nВчера приехал Слава навестит...</td>\n",
              "      <td>0/0/0</td>\n",
              "      <td>2950</td>\n",
              "      <td>Василий Сергеевич Савельев</td>\n",
              "      <td>0/0/0</td>\n",
              "    </tr>\n",
              "    <tr>\n",
              "      <th>1</th>\n",
              "      <td>1</td>\n",
              "      <td>Ночью мы достигли банки Антон-Дорн, в Датском ...</td>\n",
              "      <td>0/0/0</td>\n",
              "      <td>2268</td>\n",
              "      <td>Олег Владимирович Амитров</td>\n",
              "      <td>0/0/0</td>\n",
              "    </tr>\n",
              "    <tr>\n",
              "      <th>2</th>\n",
              "      <td>2</td>\n",
              "      <td>Суббота. Москва. Еду в Селище.</td>\n",
              "      <td>0/12/21</td>\n",
              "      <td>795</td>\n",
              "      <td>Сергей Иванович Танеев</td>\n",
              "      <td>0/12/21</td>\n",
              "    </tr>\n",
              "    <tr>\n",
              "      <th>3</th>\n",
              "      <td>3</td>\n",
              "      <td>18 Августа Его Королевское Величество отправил...</td>\n",
              "      <td>1609/8/18</td>\n",
              "      <td>1081</td>\n",
              "      <td>Самуил  Бельский</td>\n",
              "      <td>1609/8/18</td>\n",
              "    </tr>\n",
              "    <tr>\n",
              "      <th>4</th>\n",
              "      <td>4</td>\n",
              "      <td>На следующий день, 19 Августа, прибыл в Остров...</td>\n",
              "      <td>1609/8/19</td>\n",
              "      <td>1081</td>\n",
              "      <td>Самуил  Бельский</td>\n",
              "      <td>1609/8/19</td>\n",
              "    </tr>\n",
              "  </tbody>\n",
              "</table>\n",
              "</div>"
            ],
            "text/plain": [
              "   Unnamed: 0                                              notes      dates  \\\n",
              "0           0  Воскресенье.    \\nВчера приехал Слава навестит...      0/0/0   \n",
              "1           1  Ночью мы достигли банки Антон-Дорн, в Датском ...      0/0/0   \n",
              "2           2                     Суббота. Москва. Еду в Селище.    0/12/21   \n",
              "3           3  18 Августа Его Королевское Величество отправил...  1609/8/18   \n",
              "4           4  На следующий день, 19 Августа, прибыл в Остров...  1609/8/19   \n",
              "\n",
              "     id                      author       year  \n",
              "0  2950  Василий Сергеевич Савельев      0/0/0  \n",
              "1  2268   Олег Владимирович Амитров      0/0/0  \n",
              "2   795      Сергей Иванович Танеев    0/12/21  \n",
              "3  1081            Самуил  Бельский  1609/8/18  \n",
              "4  1081            Самуил  Бельский  1609/8/19  "
            ]
          },
          "metadata": {
            "tags": []
          },
          "execution_count": 19
        }
      ]
    },
    {
      "cell_type": "code",
      "metadata": {
        "id": "tK6mY0skhw8j"
      },
      "source": [
        "#whole_report = sv.analyze(whole, target_feat='id', feat_cfg=f_whole)"
      ],
      "execution_count": 22,
      "outputs": []
    },
    {
      "cell_type": "code",
      "metadata": {
        "id": "6tsLro15mT2H"
      },
      "source": [
        "#whole_report.show_html(Path('/content/whole_id.html')) "
      ],
      "execution_count": 23,
      "outputs": []
    },
    {
      "cell_type": "code",
      "metadata": {
        "id": "5kWBem_5n0eL"
      },
      "source": [
        "f_whole2 = sv.FeatureConfig(skip=[\"dates\"] )"
      ],
      "execution_count": 24,
      "outputs": []
    },
    {
      "cell_type": "code",
      "metadata": {
        "colab": {
          "base_uri": "https://localhost:8080/",
          "height": 49,
          "referenced_widgets": [
            "2ccf4c5738c24e6f9edbb64f42546728",
            "4fefd446f22a4e29856e32179089ac14",
            "65ece0191dde4a4e9be0db263c7973cf",
            "246bc6283cdd4d6c9ccc82dabc99729a",
            "10cf0a4930f14db0ab980558e747d53a",
            "ddb73ea62def4c60b1ee3a586cf3afbd",
            "7aa0768743b2448db12ff6c45806d316",
            "c0b1569f47c4413ca28240ec97745f57",
            "96ff917015884facae76e9965bc486d8",
            "d0911695f9bd4b5595b576a07bbc4c05",
            "55623f19d9344d12b73a19e094ce180d"
          ]
        },
        "id": "3znCO5Con5-V",
        "outputId": "91e1f60a-fdb2-4adb-b9eb-e76f1b560158"
      },
      "source": [
        "whole_report2 = sv.analyze(whole, feat_cfg=f_whole2)"
      ],
      "execution_count": 25,
      "outputs": [
        {
          "output_type": "display_data",
          "data": {
            "application/vnd.jupyter.widget-view+json": {
              "model_id": "2ccf4c5738c24e6f9edbb64f42546728",
              "version_minor": 0,
              "version_major": 2
            },
            "text/plain": [
              "                                             |          | [  0%]   00:00 -> (? left)"
            ]
          },
          "metadata": {
            "tags": []
          }
        }
      ]
    },
    {
      "cell_type": "code",
      "metadata": {
        "colab": {
          "base_uri": "https://localhost:8080/"
        },
        "id": "QuuKTjq_oIUK",
        "outputId": "86f0bd2c-59c9-4108-a113-5041e1d76ad0"
      },
      "source": [
        "whole_report2.show_html(Path('/content/whole_dates2.html')) "
      ],
      "execution_count": 26,
      "outputs": [
        {
          "output_type": "stream",
          "text": [
            "Report /content/whole_dates2.html was generated! NOTEBOOK/COLAB USERS: the web browser MAY not pop up, regardless, the report IS saved in your notebook/colab files.\n"
          ],
          "name": "stdout"
        }
      ]
    },
    {
      "cell_type": "code",
      "metadata": {
        "colab": {
          "base_uri": "https://localhost:8080/",
          "height": 397
        },
        "id": "lvSGpWSWr7Ic",
        "outputId": "cb4c5d48-59df-4cc9-f963-ff141205fb82"
      },
      "source": [
        "import seaborn as sns\n",
        "sns.heatmap(whole.isnull(), cbar = False).set_title(\"Missing  values  heatmap\")"
      ],
      "execution_count": 27,
      "outputs": [
        {
          "output_type": "execute_result",
          "data": {
            "text/plain": [
              "Text(0.5, 1.0, 'Missing  values  heatmap')"
            ]
          },
          "metadata": {
            "tags": []
          },
          "execution_count": 27
        },
        {
          "output_type": "display_data",
          "data": {
            "image/png": "[encoded data removed]",
            "text/plain": [
              "<Figure size 600x400 with 1 Axes>"
            ]
          },
          "metadata": {
            "tags": []
          }
        }
      ]
    },
    {
      "cell_type": "code",
      "metadata": {
        "colab": {
          "base_uri": "https://localhost:8080/"
        },
        "id": "HEckEsOesI_3",
        "outputId": "3ae3d4c0-9d50-480c-fffb-fec3c2dc4307"
      },
      "source": [
        "whole.nunique()#количество уникальных значений"
      ],
      "execution_count": 28,
      "outputs": [
        {
          "output_type": "execute_result",
          "data": {
            "text/plain": [
              "Unnamed: 0    384526\n",
              "notes         383590\n",
              "dates          68846\n",
              "id              1516\n",
              "author          1498\n",
              "year           68846\n",
              "dtype: int64"
            ]
          },
          "metadata": {
            "tags": []
          },
          "execution_count": 28
        }
      ]
    },
    {
      "cell_type": "code",
      "metadata": {
        "colab": {
          "base_uri": "https://localhost:8080/",
          "height": 284
        },
        "id": "FYgzZmHysUlJ",
        "outputId": "4f9523af-a154-478f-d8e5-3dbd56c81ad9"
      },
      "source": [
        "whole.describe()"
      ],
      "execution_count": 29,
      "outputs": [
        {
          "output_type": "execute_result",
          "data": {
            "text/html": [
              "<div>\n",
              "<style scoped>\n",
              "    .dataframe tbody tr th:only-of-type {\n",
              "        vertical-align: middle;\n",
              "    }\n",
              "\n",
              "    .dataframe tbody tr th {\n",
              "        vertical-align: top;\n",
              "    }\n",
              "\n",
              "    .dataframe thead th {\n",
              "        text-align: right;\n",
              "    }\n",
              "</style>\n",
              "<table border=\"1\" class=\"dataframe\">\n",
              "  <thead>\n",
              "    <tr style=\"text-align: right;\">\n",
              "      <th></th>\n",
              "      <th>Unnamed: 0</th>\n",
              "      <th>id</th>\n",
              "    </tr>\n",
              "  </thead>\n",
              "  <tbody>\n",
              "    <tr>\n",
              "      <th>count</th>\n",
              "      <td>384526.000000</td>\n",
              "      <td>384526.000000</td>\n",
              "    </tr>\n",
              "    <tr>\n",
              "      <th>mean</th>\n",
              "      <td>192262.500000</td>\n",
              "      <td>730.584158</td>\n",
              "    </tr>\n",
              "    <tr>\n",
              "      <th>std</th>\n",
              "      <td>111003.239142</td>\n",
              "      <td>669.928649</td>\n",
              "    </tr>\n",
              "    <tr>\n",
              "      <th>min</th>\n",
              "      <td>0.000000</td>\n",
              "      <td>3.000000</td>\n",
              "    </tr>\n",
              "    <tr>\n",
              "      <th>25%</th>\n",
              "      <td>96131.250000</td>\n",
              "      <td>196.000000</td>\n",
              "    </tr>\n",
              "    <tr>\n",
              "      <th>50%</th>\n",
              "      <td>192262.500000</td>\n",
              "      <td>519.000000</td>\n",
              "    </tr>\n",
              "    <tr>\n",
              "      <th>75%</th>\n",
              "      <td>288393.750000</td>\n",
              "      <td>991.000000</td>\n",
              "    </tr>\n",
              "    <tr>\n",
              "      <th>max</th>\n",
              "      <td>384525.000000</td>\n",
              "      <td>3505.000000</td>\n",
              "    </tr>\n",
              "  </tbody>\n",
              "</table>\n",
              "</div>"
            ],
            "text/plain": [
              "          Unnamed: 0             id\n",
              "count  384526.000000  384526.000000\n",
              "mean   192262.500000     730.584158\n",
              "std    111003.239142     669.928649\n",
              "min         0.000000       3.000000\n",
              "25%     96131.250000     196.000000\n",
              "50%    192262.500000     519.000000\n",
              "75%    288393.750000     991.000000\n",
              "max    384525.000000    3505.000000"
            ]
          },
          "metadata": {
            "tags": []
          },
          "execution_count": 29
        }
      ]
    },
    {
      "cell_type": "code",
      "metadata": {
        "colab": {
          "base_uri": "https://localhost:8080/",
          "height": 373
        },
        "id": "g-D1el57t_r9",
        "outputId": "f609b691-e452-45b5-c01d-13ffa33e83d1"
      },
      "source": [
        "whole_year = whole.groupby('year').sum()\n",
        "whole_year.head(10)"
      ],
      "execution_count": 30,
      "outputs": [
        {
          "output_type": "execute_result",
          "data": {
            "text/html": [
              "<div>\n",
              "<style scoped>\n",
              "    .dataframe tbody tr th:only-of-type {\n",
              "        vertical-align: middle;\n",
              "    }\n",
              "\n",
              "    .dataframe tbody tr th {\n",
              "        vertical-align: top;\n",
              "    }\n",
              "\n",
              "    .dataframe thead th {\n",
              "        text-align: right;\n",
              "    }\n",
              "</style>\n",
              "<table border=\"1\" class=\"dataframe\">\n",
              "  <thead>\n",
              "    <tr style=\"text-align: right;\">\n",
              "      <th></th>\n",
              "      <th>Unnamed: 0</th>\n",
              "      <th>id</th>\n",
              "    </tr>\n",
              "    <tr>\n",
              "      <th>year</th>\n",
              "      <th></th>\n",
              "      <th></th>\n",
              "    </tr>\n",
              "  </thead>\n",
              "  <tbody>\n",
              "    <tr>\n",
              "      <th>0/0/0</th>\n",
              "      <td>1</td>\n",
              "      <td>5218</td>\n",
              "    </tr>\n",
              "    <tr>\n",
              "      <th>0/12/21</th>\n",
              "      <td>2</td>\n",
              "      <td>795</td>\n",
              "    </tr>\n",
              "    <tr>\n",
              "      <th>1609/10/1</th>\n",
              "      <td>46</td>\n",
              "      <td>1081</td>\n",
              "    </tr>\n",
              "    <tr>\n",
              "      <th>1609/10/10</th>\n",
              "      <td>55</td>\n",
              "      <td>1081</td>\n",
              "    </tr>\n",
              "    <tr>\n",
              "      <th>1609/10/11</th>\n",
              "      <td>56</td>\n",
              "      <td>1081</td>\n",
              "    </tr>\n",
              "    <tr>\n",
              "      <th>1609/10/12</th>\n",
              "      <td>57</td>\n",
              "      <td>1081</td>\n",
              "    </tr>\n",
              "    <tr>\n",
              "      <th>1609/10/13</th>\n",
              "      <td>58</td>\n",
              "      <td>1081</td>\n",
              "    </tr>\n",
              "    <tr>\n",
              "      <th>1609/10/14</th>\n",
              "      <td>59</td>\n",
              "      <td>1081</td>\n",
              "    </tr>\n",
              "    <tr>\n",
              "      <th>1609/10/15</th>\n",
              "      <td>60</td>\n",
              "      <td>1081</td>\n",
              "    </tr>\n",
              "    <tr>\n",
              "      <th>1609/10/2</th>\n",
              "      <td>47</td>\n",
              "      <td>1081</td>\n",
              "    </tr>\n",
              "  </tbody>\n",
              "</table>\n",
              "</div>"
            ],
            "text/plain": [
              "            Unnamed: 0    id\n",
              "year                        \n",
              "0/0/0                1  5218\n",
              "0/12/21              2   795\n",
              "1609/10/1           46  1081\n",
              "1609/10/10          55  1081\n",
              "1609/10/11          56  1081\n",
              "1609/10/12          57  1081\n",
              "1609/10/13          58  1081\n",
              "1609/10/14          59  1081\n",
              "1609/10/15          60  1081\n",
              "1609/10/2           47  1081"
            ]
          },
          "metadata": {
            "tags": []
          },
          "execution_count": 30
        }
      ]
    },
    {
      "cell_type": "code",
      "metadata": {
        "colab": {
          "base_uri": "https://localhost:8080/",
          "height": 446
        },
        "id": "g9LvDbszwlOt",
        "outputId": "566ab712-7819-4276-8c28-6268323caf9f"
      },
      "source": [
        "whole_year.hist()"
      ],
      "execution_count": 31,
      "outputs": [
        {
          "output_type": "execute_result",
          "data": {
            "text/plain": [
              "array([[<matplotlib.axes._subplots.AxesSubplot object at 0x7ff6b0d66470>,\n",
              "        <matplotlib.axes._subplots.AxesSubplot object at 0x7ff6b0d17780>]],\n",
              "      dtype=object)"
            ]
          },
          "metadata": {
            "tags": []
          },
          "execution_count": 31
        },
        {
          "output_type": "display_data",
          "data": {
            "image/png": "[encoded data removed]",
            "text/plain": [
              "<Figure size 600x400 with 2 Axes>"
            ]
          },
          "metadata": {
            "tags": []
          }
        }
      ]
    },
    {
      "cell_type": "code",
      "metadata": {
        "colab": {
          "base_uri": "https://localhost:8080/",
          "height": 669
        },
        "id": "GYEkTYATwzKc",
        "outputId": "4123b1e3-113c-4e86-edb0-9b8af6663422"
      },
      "source": [
        "whole_author = whole.groupby('author').sum()\n",
        "whole_author.head(20)"
      ],
      "execution_count": 32,
      "outputs": [
        {
          "output_type": "execute_result",
          "data": {
            "text/html": [
              "<div>\n",
              "<style scoped>\n",
              "    .dataframe tbody tr th:only-of-type {\n",
              "        vertical-align: middle;\n",
              "    }\n",
              "\n",
              "    .dataframe tbody tr th {\n",
              "        vertical-align: top;\n",
              "    }\n",
              "\n",
              "    .dataframe thead th {\n",
              "        text-align: right;\n",
              "    }\n",
              "</style>\n",
              "<table border=\"1\" class=\"dataframe\">\n",
              "  <thead>\n",
              "    <tr style=\"text-align: right;\">\n",
              "      <th></th>\n",
              "      <th>Unnamed: 0</th>\n",
              "      <th>id</th>\n",
              "    </tr>\n",
              "    <tr>\n",
              "      <th>author</th>\n",
              "      <th></th>\n",
              "      <th></th>\n",
              "    </tr>\n",
              "  </thead>\n",
              "  <tbody>\n",
              "    <tr>\n",
              "      <th>Штукатуров</th>\n",
              "      <td>10752387</td>\n",
              "      <td>36828</td>\n",
              "    </tr>\n",
              "    <tr>\n",
              "      <th>Аноним</th>\n",
              "      <td>7725413</td>\n",
              "      <td>18330</td>\n",
              "    </tr>\n",
              "    <tr>\n",
              "      <th>Аноним</th>\n",
              "      <td>121495837</td>\n",
              "      <td>118638</td>\n",
              "    </tr>\n",
              "    <tr>\n",
              "      <th>Света</th>\n",
              "      <td>1874806</td>\n",
              "      <td>2674</td>\n",
              "    </tr>\n",
              "    <tr>\n",
              "      <th>Аноним</th>\n",
              "      <td>5764746</td>\n",
              "      <td>8632</td>\n",
              "    </tr>\n",
              "    <tr>\n",
              "      <th>Аноним</th>\n",
              "      <td>313350</td>\n",
              "      <td>524</td>\n",
              "    </tr>\n",
              "    <tr>\n",
              "      <th>Аноним</th>\n",
              "      <td>300389722</td>\n",
              "      <td>3817130</td>\n",
              "    </tr>\n",
              "    <tr>\n",
              "      <th>Анонимы</th>\n",
              "      <td>1146027</td>\n",
              "      <td>22858</td>\n",
              "    </tr>\n",
              "    <tr>\n",
              "      <th>Васёна</th>\n",
              "      <td>22240037</td>\n",
              "      <td>95832</td>\n",
              "    </tr>\n",
              "    <tr>\n",
              "      <th>К.</th>\n",
              "      <td>3789948</td>\n",
              "      <td>12259</td>\n",
              "    </tr>\n",
              "    <tr>\n",
              "      <th>Катя и Маруся</th>\n",
              "      <td>15721439</td>\n",
              "      <td>250715</td>\n",
              "    </tr>\n",
              "    <tr>\n",
              "      <th>Кудряшов</th>\n",
              "      <td>1970819</td>\n",
              "      <td>30780</td>\n",
              "    </tr>\n",
              "    <tr>\n",
              "      <th>Маруся</th>\n",
              "      <td>3252343</td>\n",
              "      <td>70236</td>\n",
              "    </tr>\n",
              "    <tr>\n",
              "      <th>Наталья</th>\n",
              "      <td>6002840</td>\n",
              "      <td>40926</td>\n",
              "    </tr>\n",
              "    <tr>\n",
              "      <th>Нелли</th>\n",
              "      <td>1942939</td>\n",
              "      <td>26784</td>\n",
              "    </tr>\n",
              "    <tr>\n",
              "      <th>Радченко Олександра Миколаївна</th>\n",
              "      <td>6931317</td>\n",
              "      <td>32634</td>\n",
              "    </tr>\n",
              "    <tr>\n",
              "      <th>С.</th>\n",
              "      <td>6474183</td>\n",
              "      <td>32674</td>\n",
              "    </tr>\n",
              "    <tr>\n",
              "      <th>Татьяна</th>\n",
              "      <td>5506263</td>\n",
              "      <td>7875</td>\n",
              "    </tr>\n",
              "    <tr>\n",
              "      <th>Иван</th>\n",
              "      <td>428827</td>\n",
              "      <td>6339</td>\n",
              "    </tr>\n",
              "    <tr>\n",
              "      <th>Наумовна Клавдия</th>\n",
              "      <td>2977618</td>\n",
              "      <td>28000</td>\n",
              "    </tr>\n",
              "  </tbody>\n",
              "</table>\n",
              "</div>"
            ],
            "text/plain": [
              "                                   Unnamed: 0       id\n",
              "author                                                \n",
              "        Штукатуров                   10752387    36828\n",
              "      Аноним                          7725413    18330\n",
              "     Аноним                         121495837   118638\n",
              "     Света                            1874806     2674\n",
              "    Аноним                            5764746     8632\n",
              "    Аноним                             313350      524\n",
              "   Аноним                           300389722  3817130\n",
              "   Анонимы                            1146027    22858\n",
              "   Васёна                            22240037    95832\n",
              "   К.                                 3789948    12259\n",
              "   Катя и Маруся                     15721439   250715\n",
              "   Кудряшов                           1970819    30780\n",
              "   Маруся                             3252343    70236\n",
              "   Наталья                            6002840    40926\n",
              "   Нелли                              1942939    26784\n",
              "   Радченко Олександра Миколаївна     6931317    32634\n",
              "   С.                                 6474183    32674\n",
              "   Татьяна                            5506263     7875\n",
              "  Иван                                 428827     6339\n",
              "  Наумовна Клавдия                    2977618    28000"
            ]
          },
          "metadata": {
            "tags": []
          },
          "execution_count": 32
        }
      ]
    },
    {
      "cell_type": "code",
      "metadata": {
        "colab": {
          "base_uri": "https://localhost:8080/",
          "height": 446
        },
        "id": "cONoSGEFxayv",
        "outputId": "d0d3b076-410b-4743-9bd7-f9e6b11562b2"
      },
      "source": [
        "whole_author.hist()"
      ],
      "execution_count": 33,
      "outputs": [
        {
          "output_type": "execute_result",
          "data": {
            "text/plain": [
              "array([[<matplotlib.axes._subplots.AxesSubplot object at 0x7ff6b0c5a1d0>,\n",
              "        <matplotlib.axes._subplots.AxesSubplot object at 0x7ff6b0c0f470>]],\n",
              "      dtype=object)"
            ]
          },
          "metadata": {
            "tags": []
          },
          "execution_count": 33
        },
        {
          "output_type": "display_data",
          "data": {
            "image/png": "[encoded data removed]",
            "text/plain": [
              "<Figure size 600x400 with 2 Axes>"
            ]
          },
          "metadata": {
            "tags": []
          }
        }
      ]
    },
    {
      "cell_type": "code",
      "metadata": {
        "colab": {
          "base_uri": "https://localhost:8080/",
          "height": 1000
        },
        "id": "pfscjcEmxjBb",
        "outputId": "9be2e3e2-bf2b-4ca9-da13-91ee296139a1"
      },
      "source": [
        "whole_notes = whole.groupby('notes').sum()\n",
        "whole_notes.head(5)"
      ],
      "execution_count": 34,
      "outputs": [
        {
          "output_type": "execute_result",
          "data": {
            "text/html": [
              "<div>\n",
              "<style scoped>\n",
              "    .dataframe tbody tr th:only-of-type {\n",
              "        vertical-align: middle;\n",
              "    }\n",
              "\n",
              "    .dataframe tbody tr th {\n",
              "        vertical-align: top;\n",
              "    }\n",
              "\n",
              "    .dataframe thead th {\n",
              "        text-align: right;\n",
              "    }\n",
              "</style>\n",
              "<table border=\"1\" class=\"dataframe\">\n",
              "  <thead>\n",
              "    <tr style=\"text-align: right;\">\n",
              "      <th></th>\n",
              "      <th>Unnamed: 0</th>\n",
              "      <th>id</th>\n",
              "    </tr>\n",
              "    <tr>\n",
              "      <th>notes</th>\n",
              "      <th></th>\n",
              "      <th></th>\n",
              "    </tr>\n",
              "  </thead>\n",
              "  <tbody>\n",
              "    <tr>\n",
              "      <th>\\n\\n|  |   |\\n| -------- | -------- |\\n| 10 до 12 сочиненія  | Англійской и Шахматы, и то скверно  |\\n| 12 до 4 Шахматы |    |\\n|  4 до 8 Англійской |    |</th>\n",
              "      <td>14297</td>\n",
              "      <td>196</td>\n",
              "    </tr>\n",
              "    <tr>\n",
              "      <th>\\n\\n|  |   |\\n| -------- | -------- | -------- |\\n|  6 — 12 сочиненія |  исполнилъ |\\n|  12 — 4 Наказъ читать |   |\\n| 4 — 8 сочиненія.  |   |</th>\n",
              "      <td>14299</td>\n",
              "      <td>196</td>\n",
              "    </tr>\n",
              "    <tr>\n",
              "      <th>\\n![](https://i.imgur.com/86bPWbr.png)\\n\\nИногда идешь на завод и думаешь: «Застанешь ли завод дома?» А идешь домой, думаешь: «Застанешь ли дом дома?» Вот меню на сегодняшний рабочий день:    \\n1) Тревога 11.30, отбой 12.30.    \\n2) Тревога 12.40, отбой 13.20.    \\n3) Тревога 13.50, отбой 14.15.    \\n4) Тревога 15.50, отбой 16.20.    \\n5) Тревога 18.15, отбой 19.15. Немного надоело и мешает работать.    \\n6) Тревога 22.40, отбой 23.00. Тревоги бывают в «плохую» погоду, когда светит солнце и ясное небо. «Хорошая» погода — это когда идет дождь или стоит туман и ничего не видно.    \\n7) Снова тревога 23.35, отбой 24.00.    \\n8) Снова тревога 24.35, отбой — когда спали.    \\n                   \\n&gt;3 апреля в воздушных боях на подступах к Ленинграду наши летчики сбили 14 и подбили 2 немецких самолета. 11 вражеских самолетов в тот же день сбито огнем нашей зенитной артиллерии.    \\n                   \\nЭто немного, что написано в «Правде» о дне 3 апреля на другой день 4-IV-43 г.</th>\n",
              "      <td>227746</td>\n",
              "      <td>1433</td>\n",
              "    </tr>\n",
              "    <tr>\n",
              "      <th>\\n![](https://i.imgur.com/EQF6SMl.png)\\n\\nКотя, мама и папа ходили смотреть повешенных гадов [*Публичная* *казнь* *немецких* *преступников* *через* *повешение* *состоялась* *5* *января* *1946* *г.* *на* *площади* *Калинина,* *перед* *кинотеатром* *«Гигант»* *—* *Прим.* *ред.*]    \\nС одного краю Скотке [*Правильно:* *Скотки* *—* *Прим.* *ред.*], с другого — генерал Ремлингер.    \\nВот где она, смерть немецким захватчикам!!!    \\n\\n![Вырезка из газеты](https://i.imgur.com/lRQV5cw.png)</th>\n",
              "      <td>253318</td>\n",
              "      <td>1433</td>\n",
              "    </tr>\n",
              "    <tr>\n",
              "      <th>\\n![](https://i.imgur.com/MTqxylq.png?1)\\n\\nВ 14.00 началась ВТ и продолжалась до 15.30. Этот день — годовщина того налета, когда, наблюдая за разрывами зенитных снарядов, незаметно ушел от всех укрытий и заметил это только тогда, когда самолеты начали пикировать и сбрасывать кругом бомбы. Пришлось «залечь» за снежную кучу и наблюдать полет 18-ти бомб и заход 6-ти бомбардировщиков. Одно запомнилось — пикирует на корабль, а он ощетинился огнем зениток и бьет без перерыва. И еще дымовая завеса «Максима» *[крейсер* *«Максим* *Горький»* *—* *Прим.* *ред.]*. Звуков никаких. Потом взлет кирпичей и балок разрушенного цеха, минутная задержка их в воздухе и падение с возрастающей силой. После «тревоги» ходил смотреть — на каком расстоянии была смерть — от бомб метров 60 и больше, от кирпичей и осколков была рядом.    \\nСегодня «тревога» прошла незаметно — даже не знал, так был занят работой.    \\n...радио играет: «Прощай любимый город, уходим завтра в море...»    \\n21.50. Погода хорошая, небо темно, пока тихо. Время отсчитываем не днями и месяцами, а часами и минутами, а иногда и секундами.    \\nНочь прошла спокойно. Утром рано был слышен гул артиллерийской стрельбы.    \\n                 \\n### НАЛЕТЫ НЕМЕЦКОМ АВИАЦИИ НА РАЙОН ЛЕНИНГРАДА    \\n                   \\n&gt;3 и 4 апреля немецкая авиация пыталась совершить налеты на объекты вблизи Ленинграда и на город Ленинград. В город проникли единичные самолеты, которые беспорядочно сбросили бомбы, причинившие незначительный ущерб. В воздушных боях и огнем нашей зенитной артиллерии сбито 42 немецких бомбардировщика. Наши потери — 7 самолетов.    \\n\\n![](https://i.imgur.com/KjNNLIq.png?1)\\n                 \\n### Состояние нашей лестницы на 4—IV—43 г.    \\n#### (одна страница счета фашистским гадам)  \\n\\n| № кв. | Количество жильцов | Из них в армии | Эвакуиров. организов. | \"сбежали\" | Жертвы блокады | Переехали в др. кв. | Погибли на фронте | Остались дома |\\n| -------- | -------- | -------- |\\n| 37 | 10 | 2 | 5 | - | 2 | - | 1 | 0 |\\n| 38 | 8 | 1 | 2 | - | 3 | - | 1 | 1 |\\n| 39 | 9 | 1 | 3 | - | 1 | 1 | - | 3 |\\n| 40 | 5 | 2 | - | 3 | - | - | - | 0 |\\n| 41 | 5 | 1 | 1 | - | 2 | - | - | 1 |\\n| 42 | 5 | - | 3 | 1 | 1 | - | - | - |\\n| 43 | 7 | 1 | 2 | - | 2 | 1 | 1 | 0 |\\n| 44 | 4 | - | - | - | 2 | - | - | 2 |\\n| 8 | 53 | 8 | 16 | 4 | 13 | 2 | 3 | 7 |\\n|  | 100% | 15,1% | 30,2% | 7,5% | 24,5 | 3,8 | 5,7 | 13,2 |\\n\\nБезусловно погибли 24,5 + 5,7 = 30,2%    \\n                   \\n&gt;$$Котя, помни:$$    \\n&gt;Всю жизнь мстить за эту страницу!    \\n&gt;Смерть немецким оккупантам!    \\n                 \\n### Тень зимы 1941-1942 года    \\n#### (нет дня без тревог и приключений)    \\n\\n![](https://i.imgur.com/vL4L5FX.png?1)   \\n\\nУтром 5-го апреля шел на работу мимо энского госпиталя, где работает наш знакомый доктор Брискин.    \\nК госпиталю подъехала машина, и четыре женщины стали загружать ее умершими дистрофиками. Они были желтые и худые, как скелеты, и стучали костьми о дно машины.    \\nИ мне захотелось, чтобы Гитлер перед судом полежал бы в штабеле мертвецов и немного понял, сколько несчастья он принес со своей сворой всему миру и нашему городу.    \\n                 \\n### Как Г. купался в луже    \\n                    \\n![](https://i.imgur.com/ga7Rquh.png?1)\\nМама ушла с Клавдей в кино. Мы с Котей остались дома. За окном была слышна стрельба «басом», наверно, бил Кронштадт. Это в 19.30 5-го апреля.     \\nИ мы вспомнили, как прошлый год весной, когда папа пришел домой пораньше, мама с Клавдей пошли к Черновым, Котя играл в песке, а папа сидел во дворе на скамейке. Начался обстрел. Гады стреляли всего 5-6 минут, и по нашему квадрату, так часто, что убежать под лестницу не было времени. Ближе всего была прачечная.    \\nСнаряды рвались рядом; в доме № 4, в диспансере, у пожарной части. Все гудело и сыпались осколки и стекла.    \\n«Вот это бьют здорово», — закричал Котя в прачечной. Он не понимал, что обстрел — это плохо, и ему было немного смешно, особенно смешно ему стало, когда он увидел Г., лежащего в луже на полу прачечной, и А. с женой, сидящих у котла, на полу.    \\nПапа стал в простенке и прижал к себе Котю. Котя не стоял спокойно и все спрашивал папу про стрельбу. «Замолчи, Котя, и так нервы не в порядке», — крикнул Г. из лужи. После обстрела кто-то завел патефон — «Улыбнись, мой милый, родной», — у них, наверно, уцелели стекла, и не нужно было чем-нибудь забивать рамы.    \\nМы с Котей ходили по Подъяческой, смотрели, куда попали снаряды. Петр Андреевич забивал окна, они у него выходят на Подъяческую и остались без стекол.    \\nПрибежала мама и стала искать нас — она очень беспокоилась: где мы? А мы беспокоились: где мама?    \\n21.30. Мы кончили писать рассказ, началась тревога, а мамы все еще нет, она в кино.    \\nПапа одел Коте валенки с ботами, приготовил его пальто — выходить, в случае если в нашем квадрате сильно будут бить зенитки или прорвутся гады и станут бомбить.    \\nВ 21.55 «по тревоге», пришла мама.    \\nВ 22.30 пропел петушок — «Отбой ВТ».    \\n22.45, снова сигнал «ВТ», а мы только что начали пить чай с хлебом и мороженым луком. Над домом перекрещивались лучи прожекторов и в нашем квадрате стреляли зенитки. После чая, в 12 часов, поднялась такая стрельба, что пришлось выйти из дома и спуститься вниз.    \\nОсколки сыпались с неба, как горох, и стучали по крыше, стенам, по мостовой двора. Светили прожектора. В 0.10 стало потише, и мы снова поднялись домой. Котя рисует, мама читает книгу, папа записывает. Спать ложиться немного рано — тревога серьезная, с музыкой.    \\nВо время тревог и обстрелов заниматься чем- нибудь, вроде работы, трудно, особенно ночью, а поэтому пишешь в эту тетрадь.    \\nДенечки пошли довольно горячие, а поэтому и записи в тетради начинают увеличиваться. Если так будет продолжаться дальше, то едва ли этой тетради хватит на месяц. Тем более что все пишется без «обдумывания» и обработки фраз, без рассуждения над правильностью написания того или иного слова.    \\nА написать есть о чем. Написать о 1941 годе, о 1942 и начале 1943-го. Есть такие дни, о которых можно написать целые книги, например, о дне зимою 1942 года, когда в квартире Смирновых умерло сразу 4 человека: муж с женой, дочь и бабушка. Или о том, как, идя на работу, за 15 минут ходьбы встречал по дороге саночки с покойниками, по 15-20 саночек с 1-2-3 покойниками. В эти дни ленинградцы умирали тысячами — говорят, по 30-40 тысяч. Да и живые были не лучше покойников — покойники везли на «Канонерку» [*Морг* *на* *Канонерской* *улице* *—* *Прим.* *ред.*], на «кирпичный» [*7* *марта* *1942* *г.* *суженное* *заседание* *Ленгорисполкома* *приняло* *секретное* *решение* *№* *157-С* *«Об* *организации* *—* *Прим.* *ред.*], на «братскую» — на Голодай [*Кладбище* *на* *острове* *Декабристов* *(до* *1925* *г.* *остров* *Голодай)* *—* *Прим.* *ред.*] покойников.    \\nНо не падали духом ленинградцы — они знали — «Победа будет за нами» [*«Наше* *дело* *правое,* *враг* *будет* *разбит,* *победа* *будет* *за* *нами»* *—* *заключительная* *фраза* *обращения* *к* *советскому* *народу,* *зачитанного* *заместителем* *Председателя* *Совета* *народных* *комиссаров* *СССР* *В.* *М.* *Молотовым* *в* *12* *часов* *дня* *22* *июня* *1941* *г.* *—* *Прим.* *ред.,*], и это поддерживало в них жизнь.    \\n...Отбоя все нет. Котя лег спать, и папа решил подремать на оттоманке [*Диван* *с* *тремя* *подушками* *валиками* *по* *бокам* *—* *Прим.* *ред.*] — ведь завтра на работу.    \\nКаким большим получился рассказ о том, «как Г. купался в луже в прачечной».    \\nТревога продолжалась более 3-х часов, отбой дали в 2.30.    \\nВ 3.00 снова тревога и стрельба во всех квадратах.    \\nПрислушиваясь к стрельбе, уснули и не слышали, когда был отбой ВТ.    \\n                 \\n### ...Уничтожают живую силу…</th>\n",
              "      <td>227781</td>\n",
              "      <td>1433</td>\n",
              "    </tr>\n",
              "  </tbody>\n",
              "</table>\n",
              "</div>"
            ],
            "text/plain": [
              "                                                    Unnamed: 0    id\n",
              "notes                                                               \n",
              "\\n\\n|  |   |\\n| -------- | -------- |\\n| 10 до ...       14297   196\n",
              "\\n\\n|  |   |\\n| -------- | -------- | -------- ...       14299   196\n",
              "\\n![](https://i.imgur.com/86bPWbr.png)\\n\\nИногд...      227746  1433\n",
              "\\n![](https://i.imgur.com/EQF6SMl.png)\\n\\nКотя,...      253318  1433\n",
              "\\n![](https://i.imgur.com/MTqxylq.png?1)\\n\\nВ 1...      227781  1433"
            ]
          },
          "metadata": {
            "tags": []
          },
          "execution_count": 34
        }
      ]
    },
    {
      "cell_type": "code",
      "metadata": {
        "id": "N4QmigzCy5US"
      },
      "source": [
        "feature_config_comp = sv.FeatureConfig(skip=[\"notes\", \"id\",\n",
        "                                             \"dates\", \n",
        "                                             ] )"
      ],
      "execution_count": 35,
      "outputs": []
    },
    {
      "cell_type": "code",
      "metadata": {
        "id": "e7wZNDvyy5UT"
      },
      "source": [
        "#comp_report = sv.compare([whole, \"whole\"], [lemm, \"lemm\"], \"author\", feature_config_comp)"
      ],
      "execution_count": null,
      "outputs": []
    },
    {
      "cell_type": "code",
      "metadata": {
        "id": "egeh4jjCy5UT"
      },
      "source": [
        "comp_report.show_html(Path('../visuals/compare.html')) "
      ],
      "execution_count": null,
      "outputs": []
    },
    {
      "cell_type": "code",
      "metadata": {
        "id": "xHOKpxUEy5UY",
        "colab": {
          "base_uri": "https://localhost:8080/",
          "height": 432
        },
        "outputId": "e990005c-8183-4a78-fe0a-15a37d89ca0d"
      },
      "source": [
        "whole.hist(bins=10)"
      ],
      "execution_count": 36,
      "outputs": [
        {
          "output_type": "execute_result",
          "data": {
            "text/plain": [
              "array([[<matplotlib.axes._subplots.AxesSubplot object at 0x7ff6b0b6deb8>,\n",
              "        <matplotlib.axes._subplots.AxesSubplot object at 0x7ff6b0b30d30>]],\n",
              "      dtype=object)"
            ]
          },
          "metadata": {
            "tags": []
          },
          "execution_count": 36
        },
        {
          "output_type": "display_data",
          "data": {
            "image/png": "[encoded data removed]",
            "text/plain": [
              "<Figure size 600x400 with 2 Axes>"
            ]
          },
          "metadata": {
            "tags": []
          }
        }
      ]
    },
    {
      "cell_type": "code",
      "metadata": {
        "colab": {
          "base_uri": "https://localhost:8080/",
          "height": 432
        },
        "id": "wm9b3jfzeKNI",
        "outputId": "c8c9fb53-7aa9-444c-f374-61ab6eadac6f"
      },
      "source": [
        "lemm.hist(bins=10)"
      ],
      "execution_count": 37,
      "outputs": [
        {
          "output_type": "execute_result",
          "data": {
            "text/plain": [
              "array([[<matplotlib.axes._subplots.AxesSubplot object at 0x7ff6b0c32fd0>,\n",
              "        <matplotlib.axes._subplots.AxesSubplot object at 0x7ff6b0a28ef0>]],\n",
              "      dtype=object)"
            ]
          },
          "metadata": {
            "tags": []
          },
          "execution_count": 37
        },
        {
          "output_type": "display_data",
          "data": {
            "image/png": "[encoded data removed]",
            "text/plain": [
              "<Figure size 600x400 with 2 Axes>"
            ]
          },
          "metadata": {
            "tags": []
          }
        }
      ]
    }
  ]
}